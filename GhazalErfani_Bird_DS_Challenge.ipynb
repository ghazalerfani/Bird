{
 "cells": [
  {
   "cell_type": "markdown",
   "metadata": {},
   "source": [
    "# Bird Data Science Challenge\n",
    "## Ghazal Erfani"
   ]
  },
  {
   "cell_type": "markdown",
   "metadata": {},
   "source": [
    "### __Goal__: Predict which Birds will soon require maintenance. \n",
    "\n",
    "### __Exploratory Data Analysis Observations__: \n",
    "- The dataset consists of 50,000 observations and 11 features pertaining to the Bird device, user, and ride. \n",
    "- There are no missing values. \n",
    "- There are 500 unique Birds, 2 unique Bird Models, and 100 unique riders. \n",
    "- The dataset is imbalanced: 69% of rides have not triggered maintenance. This may require downsampling or upsampling to balance the dataset prior to modeling. \n",
    "- On average, each rider takes 500 rides. \n",
    "- Rider’s age, rating, distance travelled, and time travelled does not differ greatly between rides that trigger maintenance and those that do not. \n",
    "- There are outliers in time travelled (as per boxplot). \n",
    "\n",
    "### __Data Preparation__:\n",
    "- As part of Exploratory Data Analysis, 2 new features were created:\n",
    "\n",
    "    - *time_travelled_minutes*: time travelled during ride.\n",
    "    - *distance_travelled*: distance travelled during ride.\n",
    "        \n",
    "    \n",
    "- To improve model performance, 3 new features were created: \n",
    "\n",
    "    - *total_distance_travelled*: total distance Bird has travelled. \n",
    "    - *count_past_rides*: total number of rides Bird has had in the past. \n",
    "    - *count_past_rides_with_maintenance*: total number of rides Bird has had in the past that have triggered maintenance. Note: there are some outliers here (as per boxplot).         \n",
    "        \n",
    "        \n",
    "- Scatter plots were used to view relationships among features. Given the observed linear relationship between *count_past_rides* and *count_past_rides_with_maintenance*, *count_past_rides* was not included in modeling to reduce collinearity effects. \n",
    "\n",
    "\n",
    "- Using the Interquartile Range Rule, 3,017 outliers were identified. Since these observations accounted 6% of the data, they were removed. If there had been more outliers, I would have considered winsorization to minimize the loss of data. \n",
    "\n",
    "\n",
    "- For modeling, 5 continuous features and 3 discrete features were selected. Discrete features were converted to dummy variables. \n",
    "\n",
    "\n",
    "- Data was split into training and test sets. Training dataset was downsampled to ensure balance. Datasets were standardized. \n",
    "\n",
    "### __Modeling__:\n",
    "- A total of 6 classification models were used: \n",
    "\n",
    "    - Dummy classifier (a baseline model that uses training set’s class distribution)\n",
    "    - Naïve Bayes\n",
    "    - Logistic Regression\n",
    "    - Decision Tree\n",
    "    - Random Forest\n",
    "    - Support Vector Machine (SVM)\n",
    "    \n",
    "\n",
    "- To streamline modeling, a function was created to fit and evaluate models. \n",
    "\n",
    "    - Takes in a model  and a set of parameters and uses grid search with cross validation to tune the hyperparameters and find the optimal model. \n",
    "    - Prints the optimal model parameters, and several performance metrics: accuracy, Receiving Operating Characteristic Area Under the Curve (ROC AUC), and F1-score, and the confusion matrix. \n",
    "    - Returns information about the model to be used for plotting ROC curves. \n",
    "\n",
    "\n",
    "- In this analysis, the cost of having a false negative is high: incorrectly predicting that a Bird does not require maintenance is worse than incorrectly predicting that a Bird does require maintenance. Thus, we aim to increase the sensitivity/recall (True Positive Rate) of our model. As a result, the model with the highest ROC AUC score will be selected as the best model. \n",
    "\n",
    "\n",
    "- As one can see by the printed ROC AUC metrics and the visualized ROC Curves, the Decision Tree model is the best model, with an ROC AUC of 0.62 and an F1-score of 0.54. \n",
    "\n",
    "    - Compared to our baseline model with an ROC AUC of 0.51 and an F1-score of 0.40, this Decision Tree model improves prediction of Birds that will require maintenance. \n",
    "    - Note that we are not only using accuracy score to measure model performance because accuracy alone is too simplistic and does not decompose the different types of correct and incorrect decisions a classifier makes. \n",
    "        \n",
    "\n",
    "- Based on feature importance of this Decision Tree model, we conclude that time travelled on that ride, total distance Bird has travelled, and distance travelled on that ride are the most important features to predict required maintenance, respectively. \n",
    "\n",
    "\n",
    "\n",
    "### __Next Steps__:\n",
    "Given more time, I would consider exploring the following areas: \n",
    "- To improve model performance:\n",
    "\n",
    "    - I would aim to incorporate better features into the model: \n",
    "\n",
    "        - *Total time travelled*: Given that time travelled on that Bird ride was the most important feature in our best model, I would consider creating this as new feature that captures the total time that a Bird has travelled. \n",
    "        - *Average speed travelled*: If possible, I would consider collecting this data from the device for each ride. If not possible, I would consider *using distance travelled on that ride* divided by *time travelled on that ride* as a good estimate for average speed travelled on that ride. The shortcoming of this calculation is that it would include time during which the device was idle, so it may not accurately represent the average speed of the device during that ride.\n",
    "        - *Type of road travelled on*: Given that different road types (i.e. highway vs concrete load road vs brick local road) may have varying effects on the device condition, I would consider collecting this data from the device to give us better insight into its wear and tear. \n",
    "     \n",
    "    - I would consider using ensemble methods such as bagging, boosting, or stacking to reduce bias and variance of the model and improve predictions. \n",
    "         \n",
    "        \n",
    "- To improve the readability and reproducibility of this workflow, I would consider using Sklearn’s Pipeline tool.\n",
    "\n",
    "\n",
    "- To improve upon recommendations to the business, I would consider the possibility of collecting data about the type of maintenance that was required. This could help provide more targeted predictions: not only when maintenance is required, but also how much effort the maintenance entails. \n",
    "\n",
    "### __Resources__:\n",
    "- Stack Overflow\n",
    "- StackExchange: Cross Validated\n",
    "- Scikit-learn Documentation "
   ]
  },
  {
   "cell_type": "code",
   "execution_count": 1,
   "metadata": {},
   "outputs": [],
   "source": [
    "## Required Imports\n",
    "\n",
    "# Data Cleaning\n",
    "import pandas as pd\n",
    "import numpy as np\n",
    "import datetime\n",
    "\n",
    "# Visualization\n",
    "import matplotlib.pyplot as plt\n",
    "plt.style.use('ggplot')\n",
    "%matplotlib inline\n",
    "import seaborn as sns\n",
    "\n",
    "# Data Preparation\n",
    "from sklearn.model_selection import train_test_split\n",
    "from sklearn.preprocessing import StandardScaler\n",
    "from sklearn.utils import resample\n",
    "\n",
    "# Data Modeling\n",
    "from sklearn.dummy import DummyClassifier\n",
    "from sklearn.model_selection import GridSearchCV\n",
    "from sklearn.naive_bayes import GaussianNB\n",
    "from sklearn.linear_model import LogisticRegression\n",
    "from sklearn.tree import DecisionTreeClassifier\n",
    "from sklearn.ensemble import RandomForestClassifier\n",
    "from sklearn.svm import SVC\n",
    "\n",
    "# Model Evaluation\n",
    "from sklearn.metrics import accuracy_score, roc_auc_score, roc_curve, f1_score, confusion_matrix\n",
    "\n",
    "# suppress all warnings\n",
    "import warnings\n",
    "warnings.filterwarnings(\"ignore\")"
   ]
  },
  {
   "cell_type": "markdown",
   "metadata": {},
   "source": [
    "### Load Data"
   ]
  },
  {
   "cell_type": "code",
   "execution_count": 2,
   "metadata": {},
   "outputs": [],
   "source": [
    "df = pd.read_csv('rides.csv')"
   ]
  },
  {
   "cell_type": "code",
   "execution_count": 3,
   "metadata": {},
   "outputs": [],
   "source": [
    "# convert timestamps from Epoch format to datetime (GMT)\n",
    "df['start_timestamp']  = pd.to_datetime(df['start_timestamp'],unit='s')\n",
    "df['end_timestamp']  = pd.to_datetime(df['end_timestamp'],unit='s')"
   ]
  },
  {
   "cell_type": "markdown",
   "metadata": {},
   "source": [
    "## Exploratory Data Analysis"
   ]
  },
  {
   "cell_type": "markdown",
   "metadata": {},
   "source": [
    "### What is size of dataset?"
   ]
  },
  {
   "cell_type": "code",
   "execution_count": 4,
   "metadata": {},
   "outputs": [
    {
     "data": {
      "text/plain": [
       "(50000, 11)"
      ]
     },
     "execution_count": 4,
     "metadata": {},
     "output_type": "execute_result"
    }
   ],
   "source": [
    "df.shape"
   ]
  },
  {
   "cell_type": "markdown",
   "metadata": {},
   "source": [
    "### What features are available?"
   ]
  },
  {
   "cell_type": "code",
   "execution_count": 5,
   "metadata": {},
   "outputs": [],
   "source": [
    "# add new features distance_travelled, time_travelled, time_travelled_minutes\n",
    "df['distance_travelled'] = df['end_odometer'] - df['start_odometer']\n",
    "df['time_travelled'] = df['end_timestamp'] - df['start_timestamp']\n",
    "df['time_travelled_minutes'] = round(df['time_travelled'] / np.timedelta64(1, 'm') ,2)"
   ]
  },
  {
   "cell_type": "code",
   "execution_count": 6,
   "metadata": {
    "scrolled": true
   },
   "outputs": [
    {
     "data": {
      "text/plain": [
       "bird_id                                 int64\n",
       "bird_model_id                           int64\n",
       "start_odometer                        float64\n",
       "end_odometer                          float64\n",
       "start_timestamp                datetime64[ns]\n",
       "end_timestamp                  datetime64[ns]\n",
       "rider_id                                int64\n",
       "rider_age                               int64\n",
       "ride_rating                             int64\n",
       "ride_neighborhood                      object\n",
       "ride_triggered_maintenance               bool\n",
       "distance_travelled                    float64\n",
       "time_travelled                timedelta64[ns]\n",
       "time_travelled_minutes                float64\n",
       "dtype: object"
      ]
     },
     "execution_count": 6,
     "metadata": {},
     "output_type": "execute_result"
    }
   ],
   "source": [
    "df.dtypes"
   ]
  },
  {
   "cell_type": "markdown",
   "metadata": {},
   "source": [
    "### Are there missing values?"
   ]
  },
  {
   "cell_type": "code",
   "execution_count": 7,
   "metadata": {},
   "outputs": [
    {
     "name": "stdout",
     "output_type": "stream",
     "text": [
      "False\n"
     ]
    }
   ],
   "source": [
    "print(df.isnull().values.any())"
   ]
  },
  {
   "cell_type": "markdown",
   "metadata": {},
   "source": [
    "### How many unique (1) Birds, (2) Bird Models, and (3) are there?"
   ]
  },
  {
   "cell_type": "code",
   "execution_count": 8,
   "metadata": {},
   "outputs": [
    {
     "name": "stdout",
     "output_type": "stream",
     "text": [
      "There are 500 unique Birds.\n",
      "There are 2 unique Bird Models.\n",
      "There are 100 unique riders.\n"
     ]
    }
   ],
   "source": [
    "print('There are %d unique Birds.' %df['bird_id'].nunique())\n",
    "print('There are %d unique Bird Models.' %df['bird_model_id'].nunique())\n",
    "print('There are %d unique riders.' %df['rider_id'].nunique())"
   ]
  },
  {
   "cell_type": "markdown",
   "metadata": {},
   "source": [
    "### How many Birds require maintenance?"
   ]
  },
  {
   "cell_type": "code",
   "execution_count": 9,
   "metadata": {},
   "outputs": [
    {
     "data": {
      "text/html": [
       "<div>\n",
       "<style scoped>\n",
       "    .dataframe tbody tr th:only-of-type {\n",
       "        vertical-align: middle;\n",
       "    }\n",
       "\n",
       "    .dataframe tbody tr th {\n",
       "        vertical-align: top;\n",
       "    }\n",
       "\n",
       "    .dataframe thead th {\n",
       "        text-align: right;\n",
       "    }\n",
       "</style>\n",
       "<table border=\"1\" class=\"dataframe\">\n",
       "  <thead>\n",
       "    <tr style=\"text-align: right;\">\n",
       "      <th></th>\n",
       "      <th>ride_triggered_maintenance</th>\n",
       "    </tr>\n",
       "  </thead>\n",
       "  <tbody>\n",
       "    <tr>\n",
       "      <th>False</th>\n",
       "      <td>34584</td>\n",
       "    </tr>\n",
       "    <tr>\n",
       "      <th>True</th>\n",
       "      <td>15416</td>\n",
       "    </tr>\n",
       "  </tbody>\n",
       "</table>\n",
       "</div>"
      ],
      "text/plain": [
       "       ride_triggered_maintenance\n",
       "False                       34584\n",
       "True                        15416"
      ]
     },
     "execution_count": 9,
     "metadata": {},
     "output_type": "execute_result"
    }
   ],
   "source": [
    "df['ride_triggered_maintenance'].value_counts().to_frame()"
   ]
  },
  {
   "cell_type": "markdown",
   "metadata": {},
   "source": [
    "### How many rides does each rider take?"
   ]
  },
  {
   "cell_type": "code",
   "execution_count": 10,
   "metadata": {},
   "outputs": [
    {
     "data": {
      "image/png": "[encoded data removed]",
      "text/plain": [
       "<Figure size 360x360 with 1 Axes>"
      ]
     },
     "metadata": {
      "needs_background": "light"
     },
     "output_type": "display_data"
    },
    {
     "name": "stdout",
     "output_type": "stream",
     "text": [
      "On average, each rider takes 500 rides.\n"
     ]
    }
   ],
   "source": [
    "pd.DataFrame(df['rider_id'].value_counts()).boxplot(figsize=(5,5))\n",
    "plt.show()\n",
    "print(\"On average, each rider takes %d rides.\" %df['rider_id'].value_counts().mean())"
   ]
  },
  {
   "cell_type": "markdown",
   "metadata": {},
   "source": [
    "### How does rider's age, rating, distance travelled, and time travelled differ between those that trigger maintenance and those that do not?"
   ]
  },
  {
   "cell_type": "code",
   "execution_count": 11,
   "metadata": {},
   "outputs": [],
   "source": [
    "df_triggered_maintenance = df[df['ride_triggered_maintenance']==True]\n",
    "df_didnot_trigger_maintenance = df[df['ride_triggered_maintenance']==False]"
   ]
  },
  {
   "cell_type": "code",
   "execution_count": 12,
   "metadata": {},
   "outputs": [
    {
     "data": {
      "image/png": "[encoded data removed]",
      "text/plain": [
       "<Figure size 576x1224 with 2 Axes>"
      ]
     },
     "metadata": {
      "needs_background": "light"
     },
     "output_type": "display_data"
    },
    {
     "data": {
      "image/png": "[encoded data removed]",
      "text/plain": [
       "<Figure size 576x1224 with 2 Axes>"
      ]
     },
     "metadata": {
      "needs_background": "light"
     },
     "output_type": "display_data"
    },
    {
     "data": {
      "image/png": "[encoded data removed]",
      "text/plain": [
       "<Figure size 576x1224 with 2 Axes>"
      ]
     },
     "metadata": {
      "needs_background": "light"
     },
     "output_type": "display_data"
    },
    {
     "data": {
      "image/png": "[encoded data removed]",
      "text/plain": [
       "<Figure size 576x1224 with 2 Axes>"
      ]
     },
     "metadata": {
      "needs_background": "light"
     },
     "output_type": "display_data"
    }
   ],
   "source": [
    "columns_for_boxplot = ['rider_age', 'ride_rating', 'distance_travelled', 'time_travelled_minutes']\n",
    "for i, j, c in zip([1,3,5,7], [2,4,6,8] , columns_for_boxplot):\n",
    "    fig = plt.figure(figsize=(8,17))\n",
    "    ax1 = fig.add_subplot(4,2,i)\n",
    "    if i==1: ax1.set_title(\"Triggered Maintenance\")\n",
    "    df_triggered_maintenance.boxplot(column=[c], ax=ax1)\n",
    "    ax2 = fig.add_subplot(4,2,j)\n",
    "    if j==2: ax2.set_title(\"Did Not Trigger Maintenance\")\n",
    "    df_didnot_trigger_maintenance.boxplot(column=[c], ax=ax2)"
   ]
  },
  {
   "cell_type": "markdown",
   "metadata": {},
   "source": [
    "## Data Preparation"
   ]
  },
  {
   "cell_type": "code",
   "execution_count": 14,
   "metadata": {},
   "outputs": [
    {
     "data": {
      "text/plain": [
       "(50000, 14)"
      ]
     },
     "execution_count": 14,
     "metadata": {},
     "output_type": "execute_result"
    }
   ],
   "source": [
    "df.shape"
   ]
  },
  {
   "cell_type": "markdown",
   "metadata": {},
   "source": [
    "### Create Input New Features"
   ]
  },
  {
   "cell_type": "code",
   "execution_count": 15,
   "metadata": {},
   "outputs": [],
   "source": [
    "# new input feature: total distance that bird has traveled\n",
    "df['total_distance_travelled'] = df['end_odometer']"
   ]
  },
  {
   "cell_type": "code",
   "execution_count": 16,
   "metadata": {},
   "outputs": [],
   "source": [
    "# new input feature: count of past rides that bird has had\n",
    "df_sorted = df.sort_values(by=['bird_id', 'start_timestamp'])\n",
    "df_sorted['count_past_rides'] = df_sorted.groupby('bird_id')['start_timestamp'].cumcount()-1"
   ]
  },
  {
   "cell_type": "code",
   "execution_count": 17,
   "metadata": {},
   "outputs": [],
   "source": [
    "# new input feature: count of rides that bird has had that have required maintenance\n",
    "df_sorted['count_past_rides_with_maintenance'] = df_sorted.groupby('bird_id')['ride_triggered_maintenance'].cumsum()\n",
    "df_sorted['count_past_rides_with_maintenance'] = np.where(df_sorted['ride_triggered_maintenance']==True, \\\n",
    "                                                          df_sorted['count_past_rides_with_maintenance'] - 1, \\\n",
    "                                                          df_sorted['count_past_rides_with_maintenance'])\n",
    "df = df_sorted"
   ]
  },
  {
   "cell_type": "code",
   "execution_count": 18,
   "metadata": {},
   "outputs": [
    {
     "data": {
      "image/png": "[encoded data removed]",
      "text/plain": [
       "<Figure size 648x288 with 1 Axes>"
      ]
     },
     "metadata": {
      "needs_background": "light"
     },
     "output_type": "display_data"
    },
    {
     "data": {
      "image/png": "[encoded data removed]",
      "text/plain": [
       "<Figure size 648x288 with 1 Axes>"
      ]
     },
     "metadata": {
      "needs_background": "light"
     },
     "output_type": "display_data"
    },
    {
     "data": {
      "image/png": "[encoded data removed]",
      "text/plain": [
       "<Figure size 648x288 with 1 Axes>"
      ]
     },
     "metadata": {
      "needs_background": "light"
     },
     "output_type": "display_data"
    }
   ],
   "source": [
    "# plot boxplots of new continuous features to check for outliers\n",
    "columns_for_boxplot = ['total_distance_travelled', 'count_past_rides', 'count_past_rides_with_maintenance']\n",
    "for i, c in zip([1,2,3], columns_for_boxplot):\n",
    "    fig = plt.figure(figsize=(9,4))\n",
    "    ax = fig.add_subplot(1,3,i)\n",
    "    df_sorted.boxplot(column=[c], ax=ax)"
   ]
  },
  {
   "cell_type": "code",
   "execution_count": 144,
   "metadata": {},
   "outputs": [],
   "source": [
    "# # option: plot scatter plots to see feature relationships\n",
    "# continuous_features = ['rider_age', 'distance_travelled', 'time_travelled_minutes', 'total_distance_travelled', 'count_past_rides', 'count_past_rides_with_maintenance']\n",
    "# pairplot = sns.pairplot(df[continuous_features])"
   ]
  },
  {
   "cell_type": "markdown",
   "metadata": {},
   "source": [
    "### Handle Outliers"
   ]
  },
  {
   "cell_type": "code",
   "execution_count": 19,
   "metadata": {},
   "outputs": [
    {
     "name": "stdout",
     "output_type": "stream",
     "text": [
      "There are 2870 time_travelled_minutes outliers.\n"
     ]
    }
   ],
   "source": [
    "# identify time_travelled_minutes outliers (those outside of IQR)\n",
    "Q1 = df['time_travelled_minutes'].quantile(0.25)\n",
    "Q3 = df['time_travelled_minutes'].quantile(0.75)\n",
    "IQR = Q3 - Q1\n",
    "df_time_travelled_minutes_outliers =  df[(df['time_travelled_minutes'] < (Q1 - 1.5*IQR)) |(df['time_travelled_minutes'] > (Q3 + 1.5*IQR))]\n",
    "print('There are %d time_travelled_minutes outliers.' %df_time_travelled_minutes_outliers.shape[0])"
   ]
  },
  {
   "cell_type": "code",
   "execution_count": 20,
   "metadata": {},
   "outputs": [
    {
     "name": "stdout",
     "output_type": "stream",
     "text": [
      "After removing some outliers, 47130 observations remain.\n"
     ]
    }
   ],
   "source": [
    "# remove time_travelled_minutes outliers\n",
    "df_no_time_travelled_minutes_outliers = df[~((df['time_travelled_minutes'] < (Q1 - 1.5*IQR)) |(df['time_travelled_minutes'] > (Q3 + 1.5*IQR)))]\n",
    "print('After removing some outliers, %d observations remain.' %df_no_time_travelled_minutes_outliers.shape[0])"
   ]
  },
  {
   "cell_type": "code",
   "execution_count": 21,
   "metadata": {},
   "outputs": [
    {
     "name": "stdout",
     "output_type": "stream",
     "text": [
      "There are 147 count_past_rides_with_maintenance outliers.\n"
     ]
    }
   ],
   "source": [
    "# identify count_past_rides_with_maintenance outliers (those outside of IQR)\n",
    "Q1 = df_no_time_travelled_minutes_outliers['count_past_rides_with_maintenance'].quantile(0.25)\n",
    "Q3 = df_no_time_travelled_minutes_outliers['count_past_rides_with_maintenance'].quantile(0.75)\n",
    "IQR = Q3 - Q1\n",
    "df_count_past_rides_with_maintenance_outliers =  df_no_time_travelled_minutes_outliers[(df_no_time_travelled_minutes_outliers['count_past_rides_with_maintenance'] < (Q1 - 1.5*IQR)) |(df_no_time_travelled_minutes_outliers['count_past_rides_with_maintenance'] > (Q3 + 1.5*IQR))]\n",
    "print('There are %d count_past_rides_with_maintenance outliers.' %df_count_past_rides_with_maintenance_outliers.shape[0])"
   ]
  },
  {
   "cell_type": "code",
   "execution_count": 22,
   "metadata": {},
   "outputs": [
    {
     "name": "stdout",
     "output_type": "stream",
     "text": [
      "After removing remaining outliers, 46983 observations remain.\n"
     ]
    }
   ],
   "source": [
    "# remove count_past_rides_with_maintenance outliers\n",
    "df_no_outliers = df_no_time_travelled_minutes_outliers[~((df_no_time_travelled_minutes_outliers['count_past_rides_with_maintenance'] < (Q1 - 1.5*IQR)) |(df_no_time_travelled_minutes_outliers['count_past_rides_with_maintenance'] > (Q3 + 1.5*IQR)))]\n",
    "print('After removing remaining outliers, %d observations remain.' %df_no_outliers.shape[0])"
   ]
  },
  {
   "cell_type": "markdown",
   "metadata": {},
   "source": [
    "### Select Features for Modeling"
   ]
  },
  {
   "cell_type": "code",
   "execution_count": 116,
   "metadata": {},
   "outputs": [],
   "source": [
    "df_continuous_input_features = df_no_outliers[['rider_age', 'distance_travelled', 'time_travelled_minutes', 'total_distance_travelled', 'count_past_rides_with_maintenance']]\n",
    "discrete_input_features = ['bird_model_id', 'ride_rating', 'ride_neighborhood']\n",
    "df_discrete_input_features = pd.get_dummies(df_no_outliers[discrete_input_features].astype(str), prefix_sep = \"::\")"
   ]
  },
  {
   "cell_type": "code",
   "execution_count": 117,
   "metadata": {},
   "outputs": [
    {
     "data": {
      "image/png": "[encoded data removed]",
      "text/plain": [
       "<Figure size 1080x576 with 6 Axes>"
      ]
     },
     "metadata": {
      "needs_background": "light"
     },
     "output_type": "display_data"
    }
   ],
   "source": [
    "feature_distribution = df_continuous_input_features.hist(figsize = (15,8))"
   ]
  },
  {
   "cell_type": "code",
   "execution_count": 118,
   "metadata": {},
   "outputs": [],
   "source": [
    "df_model_features = pd.concat([df_continuous_input_features, df_discrete_input_features], axis=1)"
   ]
  },
  {
   "cell_type": "markdown",
   "metadata": {},
   "source": [
    "### Split into Training and Test Data"
   ]
  },
  {
   "cell_type": "code",
   "execution_count": 119,
   "metadata": {},
   "outputs": [],
   "source": [
    "X = df_model_features\n",
    "y = df_no_outliers['ride_triggered_maintenance']\n",
    "X_train, X_test, y_train, y_test = train_test_split(X, y, test_size=0.2, random_state=0)"
   ]
  },
  {
   "cell_type": "markdown",
   "metadata": {},
   "source": [
    "### Balance Dataset"
   ]
  },
  {
   "cell_type": "code",
   "execution_count": 120,
   "metadata": {},
   "outputs": [],
   "source": [
    "training_set = pd.concat([X_train, y_train], axis=1)\n",
    "no_maintenance = training_set[training_set['ride_triggered_maintenance']==False]\n",
    "maintenance = training_set[training_set['ride_triggered_maintenance']==True]"
   ]
  },
  {
   "cell_type": "code",
   "execution_count": 121,
   "metadata": {},
   "outputs": [],
   "source": [
    "# option to upsample dataset\n",
    "# upsampled = resample(maintenance, replace=True, n_samples=len(no_maintenance), random_state=0)\n",
    "# upsampled_all = pd.concat([upsampled, no_maintenance])\n",
    "# y_train = upsampled_all['ride_triggered_maintenance']\n",
    "# X_train = upsampled_all.drop('ride_triggered_maintenance', axis=1)"
   ]
  },
  {
   "cell_type": "code",
   "execution_count": 122,
   "metadata": {},
   "outputs": [],
   "source": [
    "downsampled = resample(no_maintenance, replace=False, n_samples=len(maintenance), random_state=0)\n",
    "downsampled_all = pd.concat([downsampled, maintenance])\n",
    "y_train = downsampled_all['ride_triggered_maintenance']\n",
    "X_train = downsampled_all.drop('ride_triggered_maintenance', axis=1)"
   ]
  },
  {
   "cell_type": "markdown",
   "metadata": {},
   "source": [
    "### Standardize Features"
   ]
  },
  {
   "cell_type": "code",
   "execution_count": 123,
   "metadata": {},
   "outputs": [],
   "source": [
    "scaler = StandardScaler()\n",
    "\n",
    "X_train = scaler.fit_transform(X_train)\n",
    "X_test = scaler.transform(X_test)"
   ]
  },
  {
   "cell_type": "code",
   "execution_count": 124,
   "metadata": {},
   "outputs": [
    {
     "data": {
      "text/plain": [
       "(23494, 23)"
      ]
     },
     "execution_count": 124,
     "metadata": {},
     "output_type": "execute_result"
    }
   ],
   "source": [
    "X_train.shape"
   ]
  },
  {
   "cell_type": "markdown",
   "metadata": {},
   "source": [
    "## Modeling"
   ]
  },
  {
   "cell_type": "code",
   "execution_count": 125,
   "metadata": {},
   "outputs": [],
   "source": [
    "fitted_models = []"
   ]
  },
  {
   "cell_type": "markdown",
   "metadata": {},
   "source": [
    "### Baseline Model: Dummy Classifier"
   ]
  },
  {
   "cell_type": "code",
   "execution_count": 126,
   "metadata": {},
   "outputs": [
    {
     "name": "stdout",
     "output_type": "stream",
     "text": [
      "Accuracy Score: 0.5084\n",
      "ROC AUC Score: 0.5081\n",
      "F1 Score: 0.3951\n",
      "\n",
      "Confusion Matrix:\n",
      "[[3268 3156]\n",
      " [1464 1509]]\n",
      "\n",
      "CPU times: user 20.4 ms, sys: 3.92 ms, total: 24.3 ms\n",
      "Wall time: 22.2 ms\n"
     ]
    }
   ],
   "source": [
    "%%time\n",
    "# stratified classifier uses the training data's class distribution to predict\n",
    "model_label = 'Dummy Classifier'\n",
    "dummy_classifier = DummyClassifier(strategy=\"stratified\")\n",
    "dummy_classifier.fit(X_train,y_train)\n",
    "y_pred = dummy_classifier.predict(X_test)\n",
    "\n",
    "roc = roc_curve(y_test, y_pred)\n",
    "roc_auc = roc_auc_score(y_test, y_pred)\n",
    "accuracy = accuracy_score(y_test, y_pred)\n",
    "f1 = f1_score(y_test, y_pred)\n",
    "cm = confusion_matrix(y_test, y_pred)\n",
    "\n",
    "print(\"Accuracy Score: %.4f\" % accuracy_score(y_test, y_pred))\n",
    "print(\"ROC AUC Score: %.4f\" % roc_auc_score(y_test, y_pred))\n",
    "print(\"F1 Score: %.4f\" % f1_score(y_test, y_pred))\n",
    "print(\"\")\n",
    "print(\"Confusion Matrix:\")\n",
    "print(cm)\n",
    "print(\"\")\n",
    "\n",
    "color = 'black'\n",
    "fitted_dummy_classifier = (roc, roc_auc, model_label, color)\n",
    "fitted_models.append(fitted_dummy_classifier)"
   ]
  },
  {
   "cell_type": "markdown",
   "metadata": {},
   "source": [
    "### Function to Fit & Evaluate Models"
   ]
  },
  {
   "cell_type": "code",
   "execution_count": 127,
   "metadata": {},
   "outputs": [],
   "source": [
    "def fit_classifier(model, param_grid, model_label, color):\n",
    "    '''\n",
    "    This function fits a classification model by tuning hyperparameters and prints its evaluation metrics. \n",
    "    \n",
    "    Inputs:\n",
    "    model = sklearn model object\n",
    "    model_label = string of model name to be used for plotting\n",
    "    param_grid = dictionary or list of dictionaries of hyperparameters to be tuned\n",
    "    color = string of color associated with model for plotting\n",
    "    \n",
    "    Outputs:\n",
    "    roc = computed receiver operating characteristic to be used for plotting\n",
    "    roc_auc = ROC area under the curve to be used for plotting\n",
    "    model_label = string of model name to be used for plotting\n",
    "    color = string of color associated with model for plotting\n",
    "    '''\n",
    "    \n",
    "    clf = GridSearchCV(model,param_grid,cv=5)\n",
    "\n",
    "    best_clf = clf.fit(X_train,y_train)\n",
    "\n",
    "    print('Best Parameters: %s' %best_clf.best_params_) \n",
    "    print(\"\")\n",
    "\n",
    "    y_pred = best_clf.predict(X_test)\n",
    "    roc = roc_curve(y_test, y_pred)\n",
    "    roc_auc = roc_auc_score(y_test, y_pred)\n",
    "    accuracy = accuracy_score(y_test, y_pred)\n",
    "    f1 = f1_score(y_test, y_pred)\n",
    "    cm = confusion_matrix(y_test, y_pred)\n",
    "    \n",
    "    print(\"Accuracy Score: %.4f\" %accuracy)\n",
    "    print(\"ROC AUC Score: %.4f\" %roc_auc)\n",
    "    print(\"F1 Score: %.4f\" %f1)\n",
    "    print(\"\")\n",
    "    print(\"Confusion Matrix:\")\n",
    "    print(cm)\n",
    "    print(\"\")\n",
    "    \n",
    "    \n",
    "    return (roc, roc_auc, model_label, color)"
   ]
  },
  {
   "cell_type": "markdown",
   "metadata": {},
   "source": [
    "### Naive Bayes"
   ]
  },
  {
   "cell_type": "code",
   "execution_count": 128,
   "metadata": {},
   "outputs": [
    {
     "name": "stdout",
     "output_type": "stream",
     "text": [
      "Best Parameters: {'var_smoothing': 10000.0}\n",
      "\n",
      "Accuracy Score: 0.5668\n",
      "ROC AUC Score: 0.5760\n",
      "F1 Score: 0.4675\n",
      "\n",
      "Confusion Matrix:\n",
      "[[3539 2885]\n",
      " [1186 1787]]\n",
      "\n",
      "CPU times: user 614 ms, sys: 137 ms, total: 751 ms\n",
      "Wall time: 798 ms\n"
     ]
    }
   ],
   "source": [
    "%%time\n",
    "param_grid = {'var_smoothing': 10.0 ** np.arange(1,8)}\n",
    "gnb = fit_classifier(GaussianNB(), param_grid, 'Naive Bayes', 'orange')\n",
    "fitted_models.append(gnb)"
   ]
  },
  {
   "cell_type": "markdown",
   "metadata": {},
   "source": [
    "### Logistic Regression"
   ]
  },
  {
   "cell_type": "code",
   "execution_count": 129,
   "metadata": {},
   "outputs": [
    {
     "name": "stdout",
     "output_type": "stream",
     "text": [
      "Best Parameters: {'C': 0.01, 'penalty': 'l1'}\n",
      "\n",
      "Accuracy Score: 0.5831\n",
      "ROC AUC Score: 0.5892\n",
      "F1 Score: 0.4790\n",
      "\n",
      "Confusion Matrix:\n",
      "[[3678 2746]\n",
      " [1172 1801]]\n",
      "\n",
      "CPU times: user 2.58 s, sys: 163 ms, total: 2.74 s\n",
      "Wall time: 1.42 s\n"
     ]
    }
   ],
   "source": [
    "%%time\n",
    "param_grid = {\"penalty\": [\"l1\",\"l2\"], \"C\": [1e-02, 1e-03, 1e-04, 1e-05, 1e-06, 1e-07]}\n",
    "log_reg = fit_classifier(LogisticRegression(), param_grid, 'Logistic Regression', 'green')\n",
    "fitted_models.append(log_reg)"
   ]
  },
  {
   "cell_type": "markdown",
   "metadata": {},
   "source": [
    "### Decision Tree"
   ]
  },
  {
   "cell_type": "code",
   "execution_count": 130,
   "metadata": {},
   "outputs": [
    {
     "name": "stdout",
     "output_type": "stream",
     "text": [
      "Best Parameters: {'max_depth': 13, 'min_impurity_decrease': 0.00025}\n",
      "\n",
      "Accuracy Score: 0.5323\n",
      "ROC AUC Score: 0.6247\n",
      "F1 Score: 0.5424\n",
      "\n",
      "Confusion Matrix:\n",
      "[[2397 4027]\n",
      " [ 368 2605]]\n",
      "\n",
      "CPU times: user 1min 54s, sys: 2.03 s, total: 1min 56s\n",
      "Wall time: 1min 57s\n"
     ]
    }
   ],
   "source": [
    "%%time\n",
    "param_grid = {'max_depth': range(1,51), 'min_impurity_decrease':np.linspace(0,0.001,9)}\n",
    "dt = fit_classifier(DecisionTreeClassifier(), param_grid, 'Decision Tree', 'blue')\n",
    "fitted_models.append(dt)"
   ]
  },
  {
   "cell_type": "markdown",
   "metadata": {},
   "source": [
    "### Random Forest"
   ]
  },
  {
   "cell_type": "code",
   "execution_count": 132,
   "metadata": {},
   "outputs": [
    {
     "name": "stdout",
     "output_type": "stream",
     "text": [
      "Best Parameters: {'criterion': 'entropy', 'max_depth': 13, 'min_impurity_decrease': 0.0, 'n_estimators': 80}\n",
      "\n",
      "Accuracy Score: 0.5664\n",
      "ROC AUC Score: 0.5973\n",
      "F1 Score: 0.4986\n",
      "\n",
      "Confusion Matrix:\n",
      "[[3296 3128]\n",
      " [ 947 2026]]\n",
      "\n",
      "CPU times: user 10min 1s, sys: 9.34 s, total: 10min 11s\n",
      "Wall time: 10min 27s\n"
     ]
    }
   ],
   "source": [
    "%%time\n",
    "param_grid = {'n_estimators':[80],'criterion':['gini', 'entropy'], 'max_depth':range(1,15), 'min_impurity_decrease':np.linspace(0,0.001,9)}\n",
    "rf = fit_classifier(RandomForestClassifier(), param_grid, 'Random Forest', 'purple')\n",
    "fitted_models.append(rf)"
   ]
  },
  {
   "cell_type": "markdown",
   "metadata": {},
   "source": [
    "### SVM"
   ]
  },
  {
   "cell_type": "code",
   "execution_count": 136,
   "metadata": {},
   "outputs": [
    {
     "name": "stdout",
     "output_type": "stream",
     "text": [
      "Best Parameters: {'C': 1000, 'gamma': 0.001, 'kernel': 'rbf'}\n",
      "\n",
      "Accuracy Score: 0.5371\n",
      "ROC AUC Score: 0.6034\n",
      "F1 Score: 0.5173\n",
      "\n",
      "Confusion Matrix:\n",
      "[[2716 3708]\n",
      " [ 642 2331]]\n",
      "\n",
      "CPU times: user 2h 33min 53s, sys: 34.5 s, total: 2h 34min 27s\n",
      "Wall time: 2h 35min 32s\n"
     ]
    }
   ],
   "source": [
    "%%time\n",
    "param_grid = [{'kernel': ['rbf'], 'gamma': [1e-3, 1e-4],'C': [1, 10, 100, 1000]}, {'kernel': ['linear'], 'C': [1, 10, 100, 1000]}]\n",
    "svc = fit_classifier(SVC(), param_grid, 'SVM', 'pink')\n",
    "fitted_models.append(svc)"
   ]
  },
  {
   "cell_type": "markdown",
   "metadata": {},
   "source": [
    "### Visualize ROC Curves of Models"
   ]
  },
  {
   "cell_type": "code",
   "execution_count": 137,
   "metadata": {},
   "outputs": [
    {
     "data": {
      "image/png": "[encoded data removed]",
      "text/plain": [
       "<Figure size 576x576 with 1 Axes>"
      ]
     },
     "metadata": {
      "needs_background": "light"
     },
     "output_type": "display_data"
    }
   ],
   "source": [
    "plt.figure(figsize = (8,8))\n",
    "\n",
    "for fitted_model in fitted_models:\n",
    "    fpr, tpr, thresholds = fitted_model[0]\n",
    "    plt.plot(fpr, tpr, fitted_model[3], label = '%s = %0.4f' % (fitted_model[2], fitted_model[1]))\n",
    "plt.title('Receiver Operating Characteristic')\n",
    "plt.legend(loc = 'lower right', title = 'AUC')\n",
    "plt.plot([0, 1], [0, 1], 'r--')\n",
    "plt.xlim([0, 1])\n",
    "plt.ylim([0, 1])\n",
    "plt.ylabel('True Positive Rate')\n",
    "plt.xlabel('False Positive Rate')\n",
    "plt.show()"
   ]
  },
  {
   "cell_type": "markdown",
   "metadata": {},
   "source": [
    "### Fit Best Model"
   ]
  },
  {
   "cell_type": "code",
   "execution_count": 138,
   "metadata": {},
   "outputs": [
    {
     "name": "stdout",
     "output_type": "stream",
     "text": [
      "Accuracy Score: 0.5323\n",
      "ROC AUC Score: 0.6247\n",
      "F1 Score: 0.5424\n",
      "\n",
      "Confusion Matrix:\n",
      "[[2397 4027]\n",
      " [ 368 2605]]\n",
      "\n"
     ]
    }
   ],
   "source": [
    "best_model = DecisionTreeClassifier(max_depth=13, min_impurity_decrease=0.00025)\n",
    "\n",
    "best_model.fit(X_train,y_train)\n",
    "\n",
    "y_pred = best_model.predict(X_test)\n",
    "roc = roc_curve(y_test, y_pred)\n",
    "roc_auc = roc_auc_score(y_test, y_pred)\n",
    "accuracy = accuracy_score(y_test, y_pred)\n",
    "f1 = f1_score(y_test, y_pred)\n",
    "cm = confusion_matrix(y_test, y_pred)\n",
    "    \n",
    "print(\"Accuracy Score: %.4f\" %accuracy)\n",
    "print(\"ROC AUC Score: %.4f\" %roc_auc)\n",
    "print(\"F1 Score: %.4f\" %f1)\n",
    "print(\"\")\n",
    "print(\"Confusion Matrix:\")\n",
    "print(cm)\n",
    "print(\"\")"
   ]
  },
  {
   "cell_type": "markdown",
   "metadata": {},
   "source": [
    "### Get Feature Importance"
   ]
  },
  {
   "cell_type": "code",
   "execution_count": 141,
   "metadata": {},
   "outputs": [
    {
     "data": {
      "text/html": [
       "<div>\n",
       "<style scoped>\n",
       "    .dataframe tbody tr th:only-of-type {\n",
       "        vertical-align: middle;\n",
       "    }\n",
       "\n",
       "    .dataframe tbody tr th {\n",
       "        vertical-align: top;\n",
       "    }\n",
       "\n",
       "    .dataframe thead th {\n",
       "        text-align: right;\n",
       "    }\n",
       "</style>\n",
       "<table border=\"1\" class=\"dataframe\">\n",
       "  <thead>\n",
       "    <tr style=\"text-align: right;\">\n",
       "      <th></th>\n",
       "      <th>Feature</th>\n",
       "      <th>Feature Importance</th>\n",
       "    </tr>\n",
       "  </thead>\n",
       "  <tbody>\n",
       "    <tr>\n",
       "      <th>2</th>\n",
       "      <td>time_travelled_minutes</td>\n",
       "      <td>0.521072</td>\n",
       "    </tr>\n",
       "    <tr>\n",
       "      <th>3</th>\n",
       "      <td>total_distance_travelled</td>\n",
       "      <td>0.283094</td>\n",
       "    </tr>\n",
       "    <tr>\n",
       "      <th>1</th>\n",
       "      <td>distance_travelled</td>\n",
       "      <td>0.184449</td>\n",
       "    </tr>\n",
       "    <tr>\n",
       "      <th>9</th>\n",
       "      <td>ride_rating::3</td>\n",
       "      <td>0.006252</td>\n",
       "    </tr>\n",
       "    <tr>\n",
       "      <th>4</th>\n",
       "      <td>count_past_rides_with_maintenance</td>\n",
       "      <td>0.005133</td>\n",
       "    </tr>\n",
       "  </tbody>\n",
       "</table>\n",
       "</div>"
      ],
      "text/plain": [
       "                             Feature  Feature Importance\n",
       "2             time_travelled_minutes            0.521072\n",
       "3           total_distance_travelled            0.283094\n",
       "1                 distance_travelled            0.184449\n",
       "9                     ride_rating::3            0.006252\n",
       "4  count_past_rides_with_maintenance            0.005133"
      ]
     },
     "execution_count": 141,
     "metadata": {},
     "output_type": "execute_result"
    }
   ],
   "source": [
    "feature_importance = pd.DataFrame(zip(df_model_features.columns, best_model.feature_importances_), columns = ['Feature','Feature Importance'])\n",
    "feature_importance[feature_importance['Feature Importance'] != 0].sort_values(by=['Feature Importance'], ascending=False)"
   ]
  },
  {
   "cell_type": "code",
   "execution_count": null,
   "metadata": {},
   "outputs": [],
   "source": []
  }
 ],
 "metadata": {
  "kernelspec": {
   "display_name": "Python 3",
   "language": "python",
   "name": "python3"
  },
  "language_info": {
   "codemirror_mode": {
    "name": "ipython",
    "version": 3
   },
   "file_extension": ".py",
   "mimetype": "text/x-python",
   "name": "python",
   "nbconvert_exporter": "python",
   "pygments_lexer": "ipython3",
   "version": "3.7.3"
  }
 },
 "nbformat": 4,
 "nbformat_minor": 2
}
